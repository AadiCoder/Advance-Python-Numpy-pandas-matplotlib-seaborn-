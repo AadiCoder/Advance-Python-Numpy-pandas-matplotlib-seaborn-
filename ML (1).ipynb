{
 "cells": [
  {
   "cell_type": "markdown",
   "id": "1fa0407e",
   "metadata": {},
   "source": [
    "# STEPS FOR ML"
   ]
  },
  {
   "cell_type": "code",
   "execution_count": 5,
   "id": "c7e41be5",
   "metadata": {},
   "outputs": [],
   "source": [
    "#step 0:importing libraries\n",
    "import pandas as pd\n",
    "import numpy as np\n",
    "import matplotlib.pyplot as plt"
   ]
  },
  {
   "cell_type": "code",
   "execution_count": 25,
   "id": "d7873b9e",
   "metadata": {},
   "outputs": [],
   "source": [
    "#step 1:reading and distribution of data(slice and dice)\n",
    "df=pd.read_csv(\"Price.csv\")\n",
    "i=df.iloc[:,0:1]  #dfname=dataframe.iloc[row,column]\n",
    "d=df.iloc[:,1:]"
   ]
  },
  {
   "cell_type": "code",
   "execution_count": 27,
   "id": "57bec4f2",
   "metadata": {},
   "outputs": [
    {
     "data": {
      "text/plain": [
       "Area    0\n",
       "dtype: int64"
      ]
     },
     "execution_count": 27,
     "metadata": {},
     "output_type": "execute_result"
    }
   ],
   "source": [
    "#step 2 Checking for values\n",
    "i.isnull().sum()"
   ]
  },
  {
   "cell_type": "code",
   "execution_count": 29,
   "id": "d7edb746",
   "metadata": {},
   "outputs": [
    {
     "data": {
      "text/plain": [
       "price    0\n",
       "dtype: int64"
      ]
     },
     "execution_count": 29,
     "metadata": {},
     "output_type": "execute_result"
    }
   ],
   "source": [
    "d.isnull().sum()"
   ]
  },
  {
   "cell_type": "code",
   "execution_count": 32,
   "id": "432e4116",
   "metadata": {},
   "outputs": [],
   "source": [
    "#step 3 spliting to training and testing data\n",
    "from sklearn.model_selection import train_test_split\n",
    "xtrain,xtest,ytrain,ytest=train_test_split(i,d,test_size=0.20)"
   ]
  },
  {
   "cell_type": "code",
   "execution_count": 39,
   "id": "92e60f5a",
   "metadata": {},
   "outputs": [
    {
     "data": {
      "text/plain": [
       "LinearRegression()"
      ]
     },
     "execution_count": 39,
     "metadata": {},
     "output_type": "execute_result"
    }
   ],
   "source": [
    "#step 4 choose your algo {y=mx+c}\n",
    "from sklearn.linear_model import LinearRegression\n",
    "lnr=LinearRegression()\n",
    "#step 5 Training\n",
    "lnr.fit(xtrain,ytrain)"
   ]
  },
  {
   "cell_type": "code",
   "execution_count": 43,
   "id": "f0428007",
   "metadata": {},
   "outputs": [
    {
     "data": {
      "text/plain": [
       "array([[90044.4273673 ],\n",
       "       [90044.4273673 ],\n",
       "       [85321.4087837 ],\n",
       "       [75538.01314622],\n",
       "       [80598.39020009],\n",
       "       [80598.39020009],\n",
       "       [77224.80549751],\n",
       "       [80935.74867035]])"
      ]
     },
     "execution_count": 43,
     "metadata": {},
     "output_type": "execute_result"
    }
   ],
   "source": [
    "#step 6 predicting\n",
    "predicted_price=lnr.predict(xtest) #predict price\n",
    "predicted_price"
   ]
  },
  {
   "cell_type": "code",
   "execution_count": 52,
   "id": "a6bc78c0",
   "metadata": {},
   "outputs": [
    {
     "name": "stdout",
     "output_type": "stream",
     "text": [
      "    Area\n",
      "2   1980\n",
      "36  1980\n",
      "3   1840\n",
      "5   1550\n",
      "13  1700\n",
      "17  1700\n",
      "12  1600\n",
      "4   1710\n",
      "    price\n",
      "2   93300\n",
      "36  92990\n",
      "3   84300\n",
      "5   75200\n",
      "13  83500\n",
      "17  79500\n",
      "12  74500\n",
      "4   80600\n"
     ]
    }
   ],
   "source": [
    "print(xtest)\n",
    "print(ytest)"
   ]
  },
  {
   "cell_type": "code",
   "execution_count": 72,
   "id": "09ddb7af",
   "metadata": {},
   "outputs": [
    {
     "data": {
      "text/plain": [
       "Text(0, 0.5, 'Prices')"
      ]
     },
     "execution_count": 72,
     "metadata": {},
     "output_type": "execute_result"
    },
    {
     "data": {
      "image/png": "[encoded data removed]",
      "text/plain": [
       "<Figure size 432x288 with 1 Axes>"
      ]
     },
     "metadata": {
      "needs_background": "light"
     },
     "output_type": "display_data"
    }
   ],
   "source": [
    "#step visualisation\n",
    "plt.scatter(xtest,ytest,color='r')\n",
    "plt.plot(xtest,predicted_price,color='g',linestyle=\"-\")\n",
    "plt.legend(\"best\")\n",
    "plt.title(\"Linear Regression\")\n",
    "plt.xlabel(\"Area\")\n",
    "plt.ylabel(\"Prices\")\n"
   ]
  },
  {
   "cell_type": "code",
   "execution_count": 75,
   "id": "bf887901",
   "metadata": {},
   "outputs": [
    {
     "data": {
      "text/plain": [
       "<matplotlib.legend.Legend at 0x214f6f1acd0>"
      ]
     },
     "execution_count": 75,
     "metadata": {},
     "output_type": "execute_result"
    },
    {
     "data": {
      "image/png": "[encoded data removed]",
      "text/plain": [
       "<Figure size 432x288 with 1 Axes>"
      ]
     },
     "metadata": {
      "needs_background": "light"
     },
     "output_type": "display_data"
    }
   ],
   "source": [
    "plt.plot(predicted_price,color='g')\n",
    "plt.legend(\"predicted_price\")"
   ]
  },
  {
   "cell_type": "code",
   "execution_count": 77,
   "id": "a0f4cb72",
   "metadata": {},
   "outputs": [],
   "source": [
    "#pie\n",
    "pdata=np.array([10,20,35,60])"
   ]
  },
  {
   "cell_type": "code",
   "execution_count": 79,
   "id": "b2d8cb3f",
   "metadata": {},
   "outputs": [
    {
     "data": {
      "text/plain": [
       "([<matplotlib.patches.Wedge at 0x214f7040d30>,\n",
       "  <matplotlib.patches.Wedge at 0x214f70502b0>,\n",
       "  <matplotlib.patches.Wedge at 0x214f7050790>,\n",
       "  <matplotlib.patches.Wedge at 0x214f7050c70>],\n",
       " [Text(1.0654414787782402, 0.27355886989611045, 'a'),\n",
       "  Text(0.5894094953465411, 0.928760704807937, 'b'),\n",
       "  Text(-0.8018654676031947, 0.7530018405458981, 'c'),\n",
       "  Text(0.06906950569907225, -1.0978294054098232, 'd')])"
      ]
     },
     "execution_count": 79,
     "metadata": {},
     "output_type": "execute_result"
    },
    {
     "data": {
      "image/png": "[encoded data removed]",
      "text/plain": [
       "<Figure size 432x288 with 1 Axes>"
      ]
     },
     "metadata": {},
     "output_type": "display_data"
    }
   ],
   "source": [
    "plt.pie(pdata,labels=[\"a\",\"b\",\"c\",\"d\"])"
   ]
  },
  {
   "cell_type": "code",
   "execution_count": null,
   "id": "214504d3",
   "metadata": {},
   "outputs": [],
   "source": []
  }
 ],
 "metadata": {
  "kernelspec": {
   "display_name": "Python 3 (ipykernel)",
   "language": "python",
   "name": "python3"
  },
  "language_info": {
   "codemirror_mode": {
    "name": "ipython",
    "version": 3
   },
   "file_extension": ".py",
   "mimetype": "text/x-python",
   "name": "python",
   "nbconvert_exporter": "python",
   "pygments_lexer": "ipython3",
   "version": "3.9.7"
  }
 },
 "nbformat": 4,
 "nbformat_minor": 5
}
