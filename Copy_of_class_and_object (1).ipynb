{
  "nbformat": 4,
  "nbformat_minor": 0,
  "metadata": {
    "colab": {
      "provenance": []
    },
    "kernelspec": {
      "name": "python3",
      "display_name": "Python 3"
    },
    "language_info": {
      "name": "python"
    }
  },
  "cells": [
    {
      "cell_type": "code",
      "execution_count": null,
      "metadata": {
        "id": "aTlouE43lxik"
      },
      "outputs": [],
      "source": [
        "class basics:\n",
        "    pass\n",
        "\n",
        "emp1= basics()\n",
        "\n",
        "emp1.first = \"adarsh\""
      ]
    },
    {
      "cell_type": "code",
      "source": [
        "emp1.first"
      ],
      "metadata": {
        "colab": {
          "base_uri": "https://localhost:8080/",
          "height": 36
        },
        "id": "9oUOMU8umCi6",
        "outputId": "042d3118-4fa8-4f95-8dc1-7d5860b1cd67"
      },
      "execution_count": null,
      "outputs": [
        {
          "output_type": "execute_result",
          "data": {
            "text/plain": [
              "'adarsh'"
            ],
            "application/vnd.google.colaboratory.intrinsic+json": {
              "type": "string"
            }
          },
          "metadata": {},
          "execution_count": 3
        }
      ]
    },
    {
      "cell_type": "code",
      "source": [
        "class stu:\n",
        "  def __init__(self, student_id, student_name,student_class):\n",
        "    self.student_id = student_id\n",
        "    self.student_name = student_name\n",
        "    self.student_class = student_class\n",
        "p1 = stu(\"jj\", 36,\"X\")"
      ],
      "metadata": {
        "id": "WXDnzuGlmIEL"
      },
      "execution_count": null,
      "outputs": []
    },
    {
      "cell_type": "code",
      "source": [
        "p1.student_class"
      ],
      "metadata": {
        "colab": {
          "base_uri": "https://localhost:8080/",
          "height": 36
        },
        "id": "8lZ1uJ4dmLYz",
        "outputId": "a3b1244f-5a3f-4f8f-b8f4-cabebdee025c"
      },
      "execution_count": null,
      "outputs": [
        {
          "output_type": "execute_result",
          "data": {
            "text/plain": [
              "'X'"
            ],
            "application/vnd.google.colaboratory.intrinsic+json": {
              "type": "string"
            }
          },
          "metadata": {},
          "execution_count": 5
        }
      ]
    },
    {
      "cell_type": "code",
      "source": [
        "class student:\n",
        "  name = \" \"\n",
        "  age = 0"
      ],
      "metadata": {
        "id": "9MA8L6Q7mPbF"
      },
      "execution_count": null,
      "outputs": []
    },
    {
      "cell_type": "code",
      "source": [
        "student1= student()\n",
        "student1.name =\"Adarsh Tripathi\"\n",
        "student1.age=23\n",
        "student2 = student()\n",
        "student2.name =\"Shubham D\"\n",
        "student2.age=23"
      ],
      "metadata": {
        "id": "E2nFqrJ4mue7"
      },
      "execution_count": null,
      "outputs": []
    },
    {
      "cell_type": "code",
      "source": [
        "getattr(student1,\"age\")"
      ],
      "metadata": {
        "colab": {
          "base_uri": "https://localhost:8080/"
        },
        "id": "tvixCBMsm2M1",
        "outputId": "06941bf9-6a2a-4b04-d2e6-d62a0d447f0b"
      },
      "execution_count": null,
      "outputs": [
        {
          "output_type": "execute_result",
          "data": {
            "text/plain": [
              "23"
            ]
          },
          "metadata": {},
          "execution_count": 11
        }
      ]
    },
    {
      "cell_type": "code",
      "source": [
        "hasattr(student1,\"age\")"
      ],
      "metadata": {
        "colab": {
          "base_uri": "https://localhost:8080/"
        },
        "id": "uqWeFCSunDnu",
        "outputId": "e0afc0a1-54e7-41c2-9f32-66b59044bb28"
      },
      "execution_count": null,
      "outputs": [
        {
          "output_type": "execute_result",
          "data": {
            "text/plain": [
              "True"
            ]
          },
          "metadata": {},
          "execution_count": 12
        }
      ]
    },
    {
      "cell_type": "code",
      "source": [
        "setattr(student2,\"sal\",1000)"
      ],
      "metadata": {
        "id": "A6fXyAVcn4MN"
      },
      "execution_count": null,
      "outputs": []
    },
    {
      "cell_type": "code",
      "source": [
        "hasattr(student2,\"age\")"
      ],
      "metadata": {
        "colab": {
          "base_uri": "https://localhost:8080/"
        },
        "id": "xOqrNq3ToM-n",
        "outputId": "40806a17-fc20-4319-bedb-1c4000a8653a"
      },
      "execution_count": null,
      "outputs": [
        {
          "output_type": "execute_result",
          "data": {
            "text/plain": [
              "True"
            ]
          },
          "metadata": {},
          "execution_count": 14
        }
      ]
    },
    {
      "cell_type": "code",
      "source": [],
      "metadata": {
        "id": "F5m-XpiToWFI"
      },
      "execution_count": null,
      "outputs": []
    }
  ]
}